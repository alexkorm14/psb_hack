{
 "cells": [
  {
   "cell_type": "markdown",
   "id": "c3a6d1b0-2ecf-4712-b354-ec4553cc8eec",
   "metadata": {},
   "source": [
    "# Выбор оптимальной конфигурации модели"
   ]
  },
  {
   "cell_type": "code",
   "execution_count": 1,
   "id": "000ac7b7-0748-436e-a337-c50602f274e9",
   "metadata": {
    "execution": {
     "iopub.execute_input": "2024-09-06T13:29:05.239197Z",
     "iopub.status.busy": "2024-09-06T13:29:05.238894Z",
     "iopub.status.idle": "2024-09-06T13:29:11.352378Z",
     "shell.execute_reply": "2024-09-06T13:29:11.351441Z",
     "shell.execute_reply.started": "2024-09-06T13:29:05.239171Z"
    }
   },
   "outputs": [],
   "source": [
    "# standard libraries\n",
    "import pandas as pd\n",
    "import sys\n",
    "import os\n",
    "import yaml\n",
    "import warnings\n",
    "\n",
    "warnings.filterwarnings('ignore')\n",
    "pd.set_option('display.float_format','{:_.2f}'.format)"
   ]
  },
  {
   "cell_type": "markdown",
   "id": "415cfc1f-e7d9-4c88-867a-a0d8adfe45b4",
   "metadata": {},
   "source": [
    "# Выбор лучшей модели по метрикам по продукту"
   ]
  },
  {
   "cell_type": "code",
   "execution_count": 2,
   "id": "c0d4444a-476b-4817-b613-9a38cd10e9dd",
   "metadata": {
    "execution": {
     "iopub.execute_input": "2024-09-06T13:29:11.354226Z",
     "iopub.status.busy": "2024-09-06T13:29:11.353646Z",
     "iopub.status.idle": "2024-09-06T13:29:11.358964Z",
     "shell.execute_reply": "2024-09-06T13:29:11.358155Z",
     "shell.execute_reply.started": "2024-09-06T13:29:11.354196Z"
    },
    "tags": []
   },
   "outputs": [],
   "source": [
    "main_metrics = list(map(str.lower,['MedianAE', 'MAPE', 'MAE', 'MedianAE / Median','MAE / Mean']))\n",
    "test_set_name = 'test'\n",
    "\n",
    "def read_metric_table(file_name):\n",
    "    table = pd.read_excel(file_name)\n",
    "    table['config_model'] = file_name.split('.')[0].split('/')[1].replace('_metrics','')\n",
    "    return table"
   ]
  },
  {
   "cell_type": "markdown",
   "id": "7b9b6381-7338-49e9-89af-7f84fd25e645",
   "metadata": {},
   "source": [
    "# Загрзука метрик"
   ]
  },
  {
   "cell_type": "code",
   "execution_count": 3,
   "id": "4c47c992-1d99-43b4-887a-6a37a649f9a6",
   "metadata": {
    "execution": {
     "iopub.execute_input": "2024-09-06T13:29:11.361120Z",
     "iopub.status.busy": "2024-09-06T13:29:11.360857Z",
     "iopub.status.idle": "2024-09-06T13:29:13.240323Z",
     "shell.execute_reply": "2024-09-06T13:29:13.238184Z",
     "shell.execute_reply.started": "2024-09-06T13:29:11.361096Z"
    },
    "tags": []
   },
   "outputs": [],
   "source": [
    "# файлы с метриками по модели суммы кредита\n",
    "metrics = sorted(filter(lambda x: 'model' in x, os.listdir('metrics')))\n",
    "# соберем их в единый файл с указанием модели    \n",
    "all_metrics = pd.concat(list(map(lambda x: read_metric_table('metrics/'+x),metrics))).reset_index(drop=True)"
   ]
  },
  {
   "cell_type": "markdown",
   "id": "70c92c40-04d0-472b-b649-a65a83d3339d",
   "metadata": {},
   "source": [
    "### Выбор лучшей конфигурации на test"
   ]
  },
  {
   "cell_type": "code",
   "execution_count": 4,
   "id": "9cfdbcbe-a31a-4f3f-a07d-81b180107ffb",
   "metadata": {
    "execution": {
     "iopub.execute_input": "2024-09-06T13:29:13.242285Z",
     "iopub.status.busy": "2024-09-06T13:29:13.241890Z",
     "iopub.status.idle": "2024-09-06T13:29:13.299675Z",
     "shell.execute_reply": "2024-09-06T13:29:13.297525Z",
     "shell.execute_reply.started": "2024-09-06T13:29:13.242248Z"
    },
    "tags": []
   },
   "outputs": [],
   "source": [
    "oot = all_metrics.loc[all_metrics['dataset']=='test'].groupby(['group','measurement'])[main_metrics].idxmin().applymap(lambda x: all_metrics.iloc[int(x),-1])"
   ]
  },
  {
   "cell_type": "code",
   "execution_count": 5,
   "id": "2f8d137a-37ad-4024-a3f3-2de19f8cc81a",
   "metadata": {
    "execution": {
     "iopub.execute_input": "2024-09-06T13:29:13.302026Z",
     "iopub.status.busy": "2024-09-06T13:29:13.301651Z",
     "iopub.status.idle": "2024-09-06T13:29:13.542709Z",
     "shell.execute_reply": "2024-09-06T13:29:13.539839Z",
     "shell.execute_reply.started": "2024-09-06T13:29:13.301996Z"
    },
    "tags": []
   },
   "outputs": [
    {
     "data": {
      "text/html": [
       "<div>\n",
       "<style scoped>\n",
       "    .dataframe tbody tr th:only-of-type {\n",
       "        vertical-align: middle;\n",
       "    }\n",
       "\n",
       "    .dataframe tbody tr th {\n",
       "        vertical-align: top;\n",
       "    }\n",
       "\n",
       "    .dataframe thead th {\n",
       "        text-align: right;\n",
       "    }\n",
       "</style>\n",
       "<table border=\"1\" class=\"dataframe\">\n",
       "  <thead>\n",
       "    <tr style=\"text-align: right;\">\n",
       "      <th></th>\n",
       "      <th></th>\n",
       "      <th>medianae</th>\n",
       "      <th>mape</th>\n",
       "      <th>mae</th>\n",
       "    </tr>\n",
       "    <tr>\n",
       "      <th>group</th>\n",
       "      <th>measurement</th>\n",
       "      <th></th>\n",
       "      <th></th>\n",
       "      <th></th>\n",
       "    </tr>\n",
       "  </thead>\n",
       "  <tbody>\n",
       "    <tr>\n",
       "      <th rowspan=\"7\" valign=\"top\">Инвестиционный кредит</th>\n",
       "      <th>bin_principalapproved with bin = 0.0 from 520_000.0 to 2_200_000.0</th>\n",
       "      <td>credit_sum_model_invest_v5</td>\n",
       "      <td>credit_sum_model_invest_v5</td>\n",
       "      <td>credit_sum_model_invest_v5</td>\n",
       "    </tr>\n",
       "    <tr>\n",
       "      <th>bin_principalapproved with bin = 1.0 from 2_200_000.0 to 4_445_000.0</th>\n",
       "      <td>credit_sum_model_invest_v5</td>\n",
       "      <td>credit_sum_model_invest_v5</td>\n",
       "      <td>credit_sum_model_invest_v5</td>\n",
       "    </tr>\n",
       "    <tr>\n",
       "      <th>bin_principalapproved with bin = 2.0 from 4_445_000.0 to 8_000_000.0</th>\n",
       "      <td>credit_sum_model_invest_v5</td>\n",
       "      <td>credit_sum_model_invest_v5</td>\n",
       "      <td>credit_sum_model_invest_v5</td>\n",
       "    </tr>\n",
       "    <tr>\n",
       "      <th>bin_principalapproved with bin = 3.0 from 8_000_000.0 to 20_000_000.0</th>\n",
       "      <td>credit_sum_model_invest_v5</td>\n",
       "      <td>credit_sum_model_invest_v5</td>\n",
       "      <td>credit_sum_model_invest_v5</td>\n",
       "    </tr>\n",
       "    <tr>\n",
       "      <th>overall</th>\n",
       "      <td>credit_sum_model_invest_v5</td>\n",
       "      <td>credit_sum_model_invest_v5</td>\n",
       "      <td>credit_sum_model_invest_v5</td>\n",
       "    </tr>\n",
       "    <tr>\n",
       "      <th>status with bin = Resolved-Completed</th>\n",
       "      <td>credit_sum_model_invest_v5</td>\n",
       "      <td>credit_sum_model_invest_v5</td>\n",
       "      <td>credit_sum_model_invest_v5</td>\n",
       "    </tr>\n",
       "    <tr>\n",
       "      <th>status with bin = Resolved-Rejected</th>\n",
       "      <td>credit_sum_model_invest_v5</td>\n",
       "      <td>credit_sum_model_invest_v5</td>\n",
       "      <td>credit_sum_model_invest_v5</td>\n",
       "    </tr>\n",
       "  </tbody>\n",
       "</table>\n",
       "</div>"
      ],
      "text/plain": [
       "                                                                                            medianae  \\\n",
       "group                 measurement                                                                      \n",
       "Инвестиционный кредит bin_principalapproved with bin = 0.0 from 520_0...  credit_sum_model_invest_v5   \n",
       "                      bin_principalapproved with bin = 1.0 from 2_200...  credit_sum_model_invest_v5   \n",
       "                      bin_principalapproved with bin = 2.0 from 4_445...  credit_sum_model_invest_v5   \n",
       "                      bin_principalapproved with bin = 3.0 from 8_000...  credit_sum_model_invest_v5   \n",
       "                      overall                                             credit_sum_model_invest_v5   \n",
       "                      status with bin = Resolved-Completed                credit_sum_model_invest_v5   \n",
       "                      status with bin = Resolved-Rejected                 credit_sum_model_invest_v5   \n",
       "\n",
       "                                                                                                mape  \\\n",
       "group                 measurement                                                                      \n",
       "Инвестиционный кредит bin_principalapproved with bin = 0.0 from 520_0...  credit_sum_model_invest_v5   \n",
       "                      bin_principalapproved with bin = 1.0 from 2_200...  credit_sum_model_invest_v5   \n",
       "                      bin_principalapproved with bin = 2.0 from 4_445...  credit_sum_model_invest_v5   \n",
       "                      bin_principalapproved with bin = 3.0 from 8_000...  credit_sum_model_invest_v5   \n",
       "                      overall                                             credit_sum_model_invest_v5   \n",
       "                      status with bin = Resolved-Completed                credit_sum_model_invest_v5   \n",
       "                      status with bin = Resolved-Rejected                 credit_sum_model_invest_v5   \n",
       "\n",
       "                                                                                                 mae  \n",
       "group                 measurement                                                                     \n",
       "Инвестиционный кредит bin_principalapproved with bin = 0.0 from 520_0...  credit_sum_model_invest_v5  \n",
       "                      bin_principalapproved with bin = 1.0 from 2_200...  credit_sum_model_invest_v5  \n",
       "                      bin_principalapproved with bin = 2.0 from 4_445...  credit_sum_model_invest_v5  \n",
       "                      bin_principalapproved with bin = 3.0 from 8_000...  credit_sum_model_invest_v5  \n",
       "                      overall                                             credit_sum_model_invest_v5  \n",
       "                      status with bin = Resolved-Completed                credit_sum_model_invest_v5  \n",
       "                      status with bin = Resolved-Rejected                 credit_sum_model_invest_v5  "
      ]
     },
     "execution_count": 5,
     "metadata": {},
     "output_type": "execute_result"
    }
   ],
   "source": [
    "oot.drop(columns=list(map(str.lower,['MedianAE / Median','MAE / Mean'])))"
   ]
  },
  {
   "cell_type": "markdown",
   "id": "65e6e468-959c-4976-ab1d-bde5b4d0fe44",
   "metadata": {},
   "source": [
    "### Выбор лучшей конфигурации на val"
   ]
  },
  {
   "cell_type": "code",
   "execution_count": 6,
   "id": "b515413f-def1-4b99-acaf-d9062df20de4",
   "metadata": {
    "execution": {
     "iopub.execute_input": "2024-09-06T13:29:13.546136Z",
     "iopub.status.busy": "2024-09-06T13:29:13.544129Z",
     "iopub.status.idle": "2024-09-06T13:29:13.607967Z",
     "shell.execute_reply": "2024-09-06T13:29:13.605775Z",
     "shell.execute_reply.started": "2024-09-06T13:29:13.546095Z"
    },
    "tags": []
   },
   "outputs": [],
   "source": [
    "test = all_metrics.loc[all_metrics['dataset']=='val'].groupby(['group','measurement'])[main_metrics].idxmin().applymap(lambda x: all_metrics.iloc[int(x),-1])"
   ]
  },
  {
   "cell_type": "code",
   "execution_count": 7,
   "id": "e280ed86-69a8-4b61-acc8-d489d29ee8cc",
   "metadata": {
    "execution": {
     "iopub.execute_input": "2024-09-06T13:29:13.611459Z",
     "iopub.status.busy": "2024-09-06T13:29:13.610111Z",
     "iopub.status.idle": "2024-09-06T13:29:13.661159Z",
     "shell.execute_reply": "2024-09-06T13:29:13.658972Z",
     "shell.execute_reply.started": "2024-09-06T13:29:13.611407Z"
    },
    "tags": []
   },
   "outputs": [
    {
     "data": {
      "text/html": [
       "<div>\n",
       "<style scoped>\n",
       "    .dataframe tbody tr th:only-of-type {\n",
       "        vertical-align: middle;\n",
       "    }\n",
       "\n",
       "    .dataframe tbody tr th {\n",
       "        vertical-align: top;\n",
       "    }\n",
       "\n",
       "    .dataframe thead th {\n",
       "        text-align: right;\n",
       "    }\n",
       "</style>\n",
       "<table border=\"1\" class=\"dataframe\">\n",
       "  <thead>\n",
       "    <tr style=\"text-align: right;\">\n",
       "      <th></th>\n",
       "      <th></th>\n",
       "      <th>medianae</th>\n",
       "      <th>mape</th>\n",
       "      <th>mae</th>\n",
       "    </tr>\n",
       "    <tr>\n",
       "      <th>group</th>\n",
       "      <th>measurement</th>\n",
       "      <th></th>\n",
       "      <th></th>\n",
       "      <th></th>\n",
       "    </tr>\n",
       "  </thead>\n",
       "  <tbody>\n",
       "    <tr>\n",
       "      <th rowspan=\"7\" valign=\"top\">Инвестиционный кредит</th>\n",
       "      <th>bin_principalapproved with bin = 0.0 from 520_000.0 to 2_200_000.0</th>\n",
       "      <td>credit_sum_model_invest_v5</td>\n",
       "      <td>credit_sum_model_invest_v5</td>\n",
       "      <td>credit_sum_model_invest_v5</td>\n",
       "    </tr>\n",
       "    <tr>\n",
       "      <th>bin_principalapproved with bin = 1.0 from 2_200_000.0 to 4_445_000.0</th>\n",
       "      <td>credit_sum_model_invest_v5</td>\n",
       "      <td>credit_sum_model_invest_v5</td>\n",
       "      <td>credit_sum_model_invest_v5</td>\n",
       "    </tr>\n",
       "    <tr>\n",
       "      <th>bin_principalapproved with bin = 2.0 from 4_445_000.0 to 8_000_000.0</th>\n",
       "      <td>credit_sum_model_invest_v5</td>\n",
       "      <td>credit_sum_model_invest_v5</td>\n",
       "      <td>credit_sum_model_invest_v5</td>\n",
       "    </tr>\n",
       "    <tr>\n",
       "      <th>bin_principalapproved with bin = 3.0 from 8_000_000.0 to 20_000_000.0</th>\n",
       "      <td>credit_sum_model_invest_v5</td>\n",
       "      <td>credit_sum_model_invest_v5</td>\n",
       "      <td>credit_sum_model_invest_v5</td>\n",
       "    </tr>\n",
       "    <tr>\n",
       "      <th>overall</th>\n",
       "      <td>credit_sum_model_invest_v5</td>\n",
       "      <td>credit_sum_model_invest_v5</td>\n",
       "      <td>credit_sum_model_invest_v5</td>\n",
       "    </tr>\n",
       "    <tr>\n",
       "      <th>status with bin = Resolved-Completed</th>\n",
       "      <td>credit_sum_model_invest_v5</td>\n",
       "      <td>credit_sum_model_invest_v5</td>\n",
       "      <td>credit_sum_model_invest_v5</td>\n",
       "    </tr>\n",
       "    <tr>\n",
       "      <th>status with bin = Resolved-Rejected</th>\n",
       "      <td>credit_sum_model_invest_v5</td>\n",
       "      <td>credit_sum_model_invest_v5</td>\n",
       "      <td>credit_sum_model_invest_v5</td>\n",
       "    </tr>\n",
       "  </tbody>\n",
       "</table>\n",
       "</div>"
      ],
      "text/plain": [
       "                                                                                            medianae  \\\n",
       "group                 measurement                                                                      \n",
       "Инвестиционный кредит bin_principalapproved with bin = 0.0 from 520_0...  credit_sum_model_invest_v5   \n",
       "                      bin_principalapproved with bin = 1.0 from 2_200...  credit_sum_model_invest_v5   \n",
       "                      bin_principalapproved with bin = 2.0 from 4_445...  credit_sum_model_invest_v5   \n",
       "                      bin_principalapproved with bin = 3.0 from 8_000...  credit_sum_model_invest_v5   \n",
       "                      overall                                             credit_sum_model_invest_v5   \n",
       "                      status with bin = Resolved-Completed                credit_sum_model_invest_v5   \n",
       "                      status with bin = Resolved-Rejected                 credit_sum_model_invest_v5   \n",
       "\n",
       "                                                                                                mape  \\\n",
       "group                 measurement                                                                      \n",
       "Инвестиционный кредит bin_principalapproved with bin = 0.0 from 520_0...  credit_sum_model_invest_v5   \n",
       "                      bin_principalapproved with bin = 1.0 from 2_200...  credit_sum_model_invest_v5   \n",
       "                      bin_principalapproved with bin = 2.0 from 4_445...  credit_sum_model_invest_v5   \n",
       "                      bin_principalapproved with bin = 3.0 from 8_000...  credit_sum_model_invest_v5   \n",
       "                      overall                                             credit_sum_model_invest_v5   \n",
       "                      status with bin = Resolved-Completed                credit_sum_model_invest_v5   \n",
       "                      status with bin = Resolved-Rejected                 credit_sum_model_invest_v5   \n",
       "\n",
       "                                                                                                 mae  \n",
       "group                 measurement                                                                     \n",
       "Инвестиционный кредит bin_principalapproved with bin = 0.0 from 520_0...  credit_sum_model_invest_v5  \n",
       "                      bin_principalapproved with bin = 1.0 from 2_200...  credit_sum_model_invest_v5  \n",
       "                      bin_principalapproved with bin = 2.0 from 4_445...  credit_sum_model_invest_v5  \n",
       "                      bin_principalapproved with bin = 3.0 from 8_000...  credit_sum_model_invest_v5  \n",
       "                      overall                                             credit_sum_model_invest_v5  \n",
       "                      status with bin = Resolved-Completed                credit_sum_model_invest_v5  \n",
       "                      status with bin = Resolved-Rejected                 credit_sum_model_invest_v5  "
      ]
     },
     "execution_count": 7,
     "metadata": {},
     "output_type": "execute_result"
    }
   ],
   "source": [
    "test.drop(columns=list(map(str.lower,['MedianAE / Median','MAE / Mean'])))"
   ]
  },
  {
   "cell_type": "code",
   "execution_count": 8,
   "id": "b21873cf-3e3f-4899-88fc-43f87491845a",
   "metadata": {
    "execution": {
     "iopub.execute_input": "2024-09-06T13:29:13.664577Z",
     "iopub.status.busy": "2024-09-06T13:29:13.663068Z",
     "iopub.status.idle": "2024-09-06T13:29:13.971746Z",
     "shell.execute_reply": "2024-09-06T13:29:13.970848Z",
     "shell.execute_reply.started": "2024-09-06T13:29:13.664537Z"
    },
    "tags": []
   },
   "outputs": [
    {
     "data": {
      "text/html": [
       "<div>\n",
       "<style scoped>\n",
       "    .dataframe tbody tr th:only-of-type {\n",
       "        vertical-align: middle;\n",
       "    }\n",
       "\n",
       "    .dataframe tbody tr th {\n",
       "        vertical-align: top;\n",
       "    }\n",
       "\n",
       "    .dataframe thead th {\n",
       "        text-align: right;\n",
       "    }\n",
       "</style>\n",
       "<table border=\"1\" class=\"dataframe\">\n",
       "  <thead>\n",
       "    <tr style=\"text-align: right;\">\n",
       "      <th></th>\n",
       "      <th>medianae</th>\n",
       "      <th>mape</th>\n",
       "      <th>mae</th>\n",
       "      <th>medianae / median</th>\n",
       "      <th>mae / mean</th>\n",
       "      <th>config_model</th>\n",
       "      <th>group</th>\n",
       "      <th>dataset</th>\n",
       "    </tr>\n",
       "  </thead>\n",
       "  <tbody>\n",
       "  </tbody>\n",
       "</table>\n",
       "</div>"
      ],
      "text/plain": [
       "Empty DataFrame\n",
       "Columns: [medianae, mape, mae, medianae / median, mae / mean, config_model, group, dataset]\n",
       "Index: []"
      ]
     },
     "execution_count": 8,
     "metadata": {},
     "output_type": "execute_result"
    }
   ],
   "source": [
    "all_metrics.loc[(all_metrics['measurement']=='overall')&(all_metrics['config_model'].map(lambda x: int(x[-1]))==2),\n",
    "                main_metrics+['config_model','group','dataset']].sort_values(['group','config_model','dataset'])"
   ]
  },
  {
   "cell_type": "code",
   "execution_count": null,
   "id": "70e48bc2-0b5d-47dc-b175-84c4b6b6bcfd",
   "metadata": {},
   "outputs": [],
   "source": []
  }
 ],
 "metadata": {
  "kernelspec": {
   "display_name": "py3.8_mlspark32py38slama3_0.0.1",
   "language": "python",
   "name": "mlspark32py38slama3"
  },
  "language_info": {
   "codemirror_mode": {
    "name": "ipython",
    "version": 3
   },
   "file_extension": ".py",
   "mimetype": "text/x-python",
   "name": "python",
   "nbconvert_exporter": "python",
   "pygments_lexer": "ipython3",
   "version": "3.8.11"
  }
 },
 "nbformat": 4,
 "nbformat_minor": 5
}
